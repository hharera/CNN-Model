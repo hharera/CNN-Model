{
  "nbformat": 4,
  "nbformat_minor": 0,
  "metadata": {
    "colab": {
      "name": "Untitled4.ipynb",
      "provenance": []
    },
    "kernelspec": {
      "name": "python3",
      "display_name": "Python 3"
    },
    "language_info": {
      "name": "python"
    }
  },
  "cells": [
    {
      "cell_type": "code",
      "metadata": {
        "id": "TmtS0FpeoTTn"
      },
      "source": [
        "import keras \n",
        "import tensorflow as tf"
      ],
      "execution_count": null,
      "outputs": []
    },
    {
      "cell_type": "code",
      "metadata": {
        "id": "ijWSXdUzorXA"
      },
      "source": [
        "from keras.datasets import mnist"
      ],
      "execution_count": null,
      "outputs": []
    },
    {
      "cell_type": "code",
      "metadata": {
        "id": "HALoXy8iotkL"
      },
      "source": [
        "(x_train, y_train), (x_test, y_test) = mnist.load_data()"
      ],
      "execution_count": null,
      "outputs": []
    },
    {
      "cell_type": "markdown",
      "metadata": {
        "id": "IR5c2Zb-2pl_"
      },
      "source": [
        "##Previewing"
      ]
    },
    {
      "cell_type": "code",
      "metadata": {
        "id": "uTomhsYI2v8i"
      },
      "source": [
        "import matplotlib.pyplot as plt"
      ],
      "execution_count": null,
      "outputs": []
    },
    {
      "cell_type": "code",
      "metadata": {
        "colab": {
          "base_uri": "https://localhost:8080/",
          "height": 282
        },
        "id": "XU-FT0SU2ssM",
        "outputId": "d723381a-483d-4d04-b827-fe91f3143817"
      },
      "source": [
        "# for i in range(1, 10)\n",
        "plt.imshow(x_train[5])"
      ],
      "execution_count": null,
      "outputs": [
        {
          "output_type": "execute_result",
          "data": {
            "text/plain": [
              "<matplotlib.image.AxesImage at 0x7f924cd3c8d0>"
            ]
          },
          "metadata": {},
          "execution_count": 105
        },
        {
          "output_type": "display_data",
          "data": {
            "image/png": "[encoded data removed]",
            "text/plain": [
              "<Figure size 432x288 with 1 Axes>"
            ]
          },
          "metadata": {
            "needs_background": "light"
          }
        }
      ]
    },
    {
      "cell_type": "markdown",
      "metadata": {
        "id": "8PiZwy8Zpcf3"
      },
      "source": [
        "##Image Input Size"
      ]
    },
    {
      "cell_type": "code",
      "metadata": {
        "colab": {
          "base_uri": "https://localhost:8080/"
        },
        "id": "ILHS96HLpbwC",
        "outputId": "1bf322f8-2edc-49bc-a757-c0cf841eeadb"
      },
      "source": [
        "x_train.shape"
      ],
      "execution_count": null,
      "outputs": [
        {
          "output_type": "execute_result",
          "data": {
            "text/plain": [
              "(60000, 28, 28)"
            ]
          },
          "metadata": {},
          "execution_count": 86
        }
      ]
    },
    {
      "cell_type": "markdown",
      "metadata": {
        "id": "Lx1G3FEwqCny"
      },
      "source": [
        "##Normalization"
      ]
    },
    {
      "cell_type": "code",
      "metadata": {
        "id": "hvLmLjfUqeL8"
      },
      "source": [
        "import keras.utils"
      ],
      "execution_count": null,
      "outputs": []
    },
    {
      "cell_type": "code",
      "metadata": {
        "id": "DMZvmqLCqIuE"
      },
      "source": [
        "x_train = tf.keras.utils.normalize(x_train, axis = 1)\n",
        "x_test = tf.keras.utils.normalize(x_test, axis = 1)"
      ],
      "execution_count": null,
      "outputs": []
    },
    {
      "cell_type": "markdown",
      "metadata": {
        "id": "3hzunjUAsnit"
      },
      "source": [
        "#Intitalize Model"
      ]
    },
    {
      "cell_type": "code",
      "metadata": {
        "id": "B1hYFgp3pBqp"
      },
      "source": [
        "model = keras.Sequential()"
      ],
      "execution_count": null,
      "outputs": []
    },
    {
      "cell_type": "markdown",
      "metadata": {
        "id": "VO32gypZs2xY"
      },
      "source": [
        "#Layers"
      ]
    },
    {
      "cell_type": "code",
      "metadata": {
        "id": "xsXDVr3KpLzJ"
      },
      "source": [
        "model.add(keras.layers.Flatten(input_shape=(28, 28)))\n",
        "model.add(keras.layers.Dense(512, activation=keras.activations.relu))\n",
        "model.add(keras.layers.Dense(512, activation=keras.activations.relu))\n",
        "model.add(keras.layers.Dropout(0.2))\n",
        "model.add(keras.layers.Dense(10, activation=keras.activations.softmax))"
      ],
      "execution_count": null,
      "outputs": []
    },
    {
      "cell_type": "markdown",
      "metadata": {
        "id": "GZhqVRm1tMVz"
      },
      "source": [
        "#Declare Optimizer & Loss Fuction"
      ]
    },
    {
      "cell_type": "code",
      "metadata": {
        "colab": {
          "base_uri": "https://localhost:8080/"
        },
        "id": "vatVNZQhtN3m",
        "outputId": "cb6950a0-81b9-41cb-b5bc-09524edee526"
      },
      "source": [
        "m_optimizer = keras.optimizers.adam_v2.Adam\n",
        "m_loss = keras.losses.SparseCategoricalCrossentropy\n",
        "type(m_loss)"
      ],
      "execution_count": null,
      "outputs": [
        {
          "output_type": "execute_result",
          "data": {
            "text/plain": [
              "type"
            ]
          },
          "metadata": {},
          "execution_count": 53
        }
      ]
    },
    {
      "cell_type": "markdown",
      "metadata": {
        "id": "qfBwP1_xwLw9"
      },
      "source": [
        "##Preparing Model"
      ]
    },
    {
      "cell_type": "code",
      "metadata": {
        "id": "QR0DRo41smLS"
      },
      "source": [
        "model.compile(\n",
        "    loss = 'sparse_categorical_crossentropy',\n",
        "    optimizer = 'adam',\n",
        "    metrics = ['accuracy']\n",
        ")"
      ],
      "execution_count": null,
      "outputs": []
    },
    {
      "cell_type": "markdown",
      "metadata": {
        "id": "nsEQl4w9wQ09"
      },
      "source": [
        "## Training"
      ]
    },
    {
      "cell_type": "code",
      "metadata": {
        "colab": {
          "base_uri": "https://localhost:8080/"
        },
        "id": "B2hW4AdFoam1",
        "outputId": "97f60701-9c71-4dbe-d6f7-9e064c3aa266"
      },
      "source": [
        "model.fit(x_train, y_train, epochs=3)"
      ],
      "execution_count": null,
      "outputs": [
        {
          "output_type": "stream",
          "name": "stdout",
          "text": [
            "Epoch 1/3\n",
            "1875/1875 [==============================] - 16s 8ms/step - loss: 0.2067 - accuracy: 0.9370\n",
            "Epoch 2/3\n",
            "1875/1875 [==============================] - 15s 8ms/step - loss: 0.0856 - accuracy: 0.9730\n",
            "Epoch 3/3\n",
            "1875/1875 [==============================] - 15s 8ms/step - loss: 0.0568 - accuracy: 0.9822\n"
          ]
        },
        {
          "output_type": "execute_result",
          "data": {
            "text/plain": [
              "<keras.callbacks.History at 0x7f9250c8e750>"
            ]
          },
          "metadata": {},
          "execution_count": 94
        }
      ]
    },
    {
      "cell_type": "markdown",
      "metadata": {
        "id": "ZaxEo29J150e"
      },
      "source": [
        "##Testing"
      ]
    },
    {
      "cell_type": "code",
      "metadata": {
        "colab": {
          "base_uri": "https://localhost:8080/"
        },
        "id": "jidWikp512LA",
        "outputId": "004aa634-7e0d-4e8a-97e1-2a83282abc4b"
      },
      "source": [
        "loss, acc = model.evaluate(x_test, y_test)\n",
        "print(loss)\n",
        "print(acc)"
      ],
      "execution_count": null,
      "outputs": [
        {
          "output_type": "stream",
          "name": "stdout",
          "text": [
            "313/313 [==============================] - 1s 3ms/step - loss: 0.0791 - accuracy: 0.9765\n",
            "0.07911454886198044\n",
            "0.9764999747276306\n"
          ]
        }
      ]
    },
    {
      "cell_type": "markdown",
      "metadata": {
        "id": "KXV2NYo43GuC"
      },
      "source": [
        "##Prediction"
      ]
    },
    {
      "cell_type": "markdown",
      "metadata": {
        "id": "DYkcCOeH5vs9"
      },
      "source": [
        "####import"
      ]
    },
    {
      "cell_type": "code",
      "metadata": {
        "id": "zHtx8tnn5kGi"
      },
      "source": [
        "import cv2\n",
        "import numpy as np"
      ],
      "execution_count": null,
      "outputs": []
    },
    {
      "cell_type": "markdown",
      "metadata": {
        "id": "bINYmUR75_it"
      },
      "source": [
        "###load image"
      ]
    },
    {
      "cell_type": "code",
      "metadata": {
        "colab": {
          "base_uri": "https://localhost:8080/"
        },
        "id": "A6PmtWzE5-_r",
        "outputId": "3ecb9fe8-3937-4564-b191-41cebab2055c"
      },
      "source": [
        "originalImage = cv2.imread('test_img1.jpg')\n",
        "print(originalImage)"
      ],
      "execution_count": null,
      "outputs": [
        {
          "output_type": "stream",
          "name": "stdout",
          "text": [
            "[[[248 255 249]\n",
            "  [248 255 248]\n",
            "  [255 255 251]\n",
            "  ...\n",
            "  [255 255 254]\n",
            "  [255 254 254]\n",
            "  [255 253 254]]\n",
            "\n",
            " [[253 255 251]\n",
            "  [254 255 250]\n",
            "  [255 255 254]\n",
            "  ...\n",
            "  [255 255 254]\n",
            "  [255 254 254]\n",
            "  [255 254 254]]\n",
            "\n",
            " [[255 253 250]\n",
            "  [255 255 254]\n",
            "  [255 254 255]\n",
            "  ...\n",
            "  [255 254 255]\n",
            "  [255 254 255]\n",
            "  [255 254 255]]\n",
            "\n",
            " ...\n",
            "\n",
            " [[255 254 254]\n",
            "  [255 255 254]\n",
            "  [255 255 255]\n",
            "  ...\n",
            "  [248 255 255]\n",
            "  [251 255 255]\n",
            "  [251 255 255]]\n",
            "\n",
            " [[255 253 254]\n",
            "  [255 254 254]\n",
            "  [255 254 255]\n",
            "  ...\n",
            "  [255 255 255]\n",
            "  [255 255 254]\n",
            "  [255 255 254]]\n",
            "\n",
            " [[255 253 254]\n",
            "  [255 254 254]\n",
            "  [255 254 255]\n",
            "  ...\n",
            "  [255 255 254]\n",
            "  [255 255 252]\n",
            "  [255 255 252]]]\n"
          ]
        }
      ]
    },
    {
      "cell_type": "markdown",
      "metadata": {
        "id": "I5YTYcDx8Ok5"
      },
      "source": [
        "##To Grey Scale"
      ]
    },
    {
      "cell_type": "code",
      "metadata": {
        "colab": {
          "base_uri": "https://localhost:8080/"
        },
        "id": "3uzqjzQU1p7d",
        "outputId": "1453501a-6dce-4a51-f4e0-2f91da55737e"
      },
      "source": [
        "grayImage = cv2.cvtColor(originalImage, cv2.COLOR_BGR2GRAY)\n",
        "ar = np.array(grayImage, dtype='uint8')\n",
        "ar = np.reshape(ar, newshape=(1, 28, 28))\n",
        "print(ar.shape)"
      ],
      "execution_count": null,
      "outputs": [
        {
          "output_type": "stream",
          "name": "stdout",
          "text": [
            "(1, 28, 28)\n"
          ]
        }
      ]
    },
    {
      "cell_type": "markdown",
      "metadata": {
        "id": "Lj1hZs6m8rr6"
      },
      "source": [
        "##Predict"
      ]
    },
    {
      "cell_type": "code",
      "metadata": {
        "colab": {
          "base_uri": "https://localhost:8080/"
        },
        "id": "ULrsNbVf8rCA",
        "outputId": "89116c48-7363-45c9-f324-b680fdb1e535"
      },
      "source": [
        "# print(ar.shape)\n",
        "predictions = model.predict(ar)\n",
        "prediction = predictions[0]\n",
        "np.argmax(prediction)\n",
        "\n",
        "print(np.argmax(prediction))"
      ],
      "execution_count": null,
      "outputs": [
        {
          "output_type": "stream",
          "name": "stdout",
          "text": [
            "7\n"
          ]
        }
      ]
    },
    {
      "cell_type": "markdown",
      "metadata": {
        "id": "-GCU6pLk7-Lb"
      },
      "source": [
        "##Figure Out"
      ]
    },
    {
      "cell_type": "code",
      "metadata": {
        "colab": {
          "base_uri": "https://localhost:8080/",
          "height": 269
        },
        "id": "Z_u_OpbL8FSj",
        "outputId": "6afbdcd9-bfaa-4baf-d310-fbff518f8630"
      },
      "source": [
        "import matplotlib.pyplot as plt\n",
        "\n",
        "plt.figure()\n",
        "plt.imshow(ar[0])\n",
        "plt.colorbar()\n",
        "plt.grid(False)\n",
        "plt.show()"
      ],
      "execution_count": null,
      "outputs": [
        {
          "output_type": "display_data",
          "data": {
            "image/png": "[encoded data removed]",
            "text/plain": [
              "<Figure size 432x288 with 2 Axes>"
            ]
          },
          "metadata": {
            "needs_background": "light"
          }
        }
      ]
    },
    {
      "cell_type": "code",
      "metadata": {
        "id": "aqj0Hl8l4uIV"
      },
      "source": [
        ""
      ],
      "execution_count": null,
      "outputs": []
    }
  ]
}